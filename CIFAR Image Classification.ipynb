{
 "cells": [
  {
   "cell_type": "code",
   "execution_count": 2,
   "id": "043f4065",
   "metadata": {},
   "outputs": [],
   "source": [
    "# Load the CIFAR-10 dataset\n",
    "(x_train, y_train), (x_test, y_test) = keras.datasets.cifar10.load_data()"
   ]
  },
  {
   "cell_type": "code",
   "execution_count": 3,
   "id": "648f00e8",
   "metadata": {},
   "outputs": [],
   "source": [
    "# Normalize the data\n",
    "x_train = x_train / 255.0\n",
    "x_test = x_test / 255.0"
   ]
  },
  {
   "cell_type": "code",
   "execution_count": 4,
   "id": "a757138f",
   "metadata": {},
   "outputs": [],
   "source": [
    "# Build the model\n",
    "model = keras.Sequential([\n",
    "    keras.layers.Conv2D(32, (3, 3), activation='relu', input_shape=(32, 32, 3)),\n",
    "    keras.layers.MaxPooling2D((2, 2)),\n",
    "    keras.layers.Conv2D(64, (3, 3), activation='relu'),\n",
    "    keras.layers.MaxPooling2D((2, 2)),\n",
    "    keras.layers.Flatten(),\n",
    "    keras.layers.Dropout(0.5),\n",
    "    keras.layers.Dense(64, activation='relu'),\n",
    "    keras.layers.Dense(10, activation='softmax')\n",
    "])"
   ]
  },
  {
   "cell_type": "code",
   "execution_count": 5,
   "id": "7ee571c3",
   "metadata": {},
   "outputs": [],
   "source": [
    "# Compile the model\n",
    "model.compile(optimizer='adam', loss='sparse_categorical_crossentropy', metrics=['accuracy'])"
   ]
  },
  {
   "cell_type": "code",
   "execution_count": 6,
   "id": "65df8204",
   "metadata": {},
   "outputs": [
    {
     "name": "stdout",
     "output_type": "stream",
     "text": [
      "Epoch 1/10\n",
      "1563/1563 [==============================] - 69s 43ms/step - loss: 1.5408 - accuracy: 0.4402 - val_loss: 1.2591 - val_accuracy: 0.5604\n",
      "Epoch 2/10\n",
      "1563/1563 [==============================] - 67s 43ms/step - loss: 1.2320 - accuracy: 0.5623 - val_loss: 1.0909 - val_accuracy: 0.6183\n",
      "Epoch 3/10\n",
      "1563/1563 [==============================] - 67s 43ms/step - loss: 1.1161 - accuracy: 0.6086 - val_loss: 1.0124 - val_accuracy: 0.6456\n",
      "Epoch 4/10\n",
      "1563/1563 [==============================] - 67s 43ms/step - loss: 1.0496 - accuracy: 0.6313 - val_loss: 0.9465 - val_accuracy: 0.6701\n",
      "Epoch 5/10\n",
      "1563/1563 [==============================] - 67s 43ms/step - loss: 0.9880 - accuracy: 0.6527 - val_loss: 0.9471 - val_accuracy: 0.6749\n",
      "Epoch 6/10\n",
      "1563/1563 [==============================] - 67s 43ms/step - loss: 0.9548 - accuracy: 0.6656 - val_loss: 0.9057 - val_accuracy: 0.6898\n",
      "Epoch 7/10\n",
      "1563/1563 [==============================] - 67s 43ms/step - loss: 0.9126 - accuracy: 0.6793 - val_loss: 0.8615 - val_accuracy: 0.7000\n",
      "Epoch 8/10\n",
      "1563/1563 [==============================] - 68s 44ms/step - loss: 0.8823 - accuracy: 0.6901 - val_loss: 0.8511 - val_accuracy: 0.7055\n",
      "Epoch 9/10\n",
      "1563/1563 [==============================] - 67s 43ms/step - loss: 0.8572 - accuracy: 0.6987 - val_loss: 0.8828 - val_accuracy: 0.6924\n",
      "Epoch 10/10\n",
      "1563/1563 [==============================] - 67s 43ms/step - loss: 0.8356 - accuracy: 0.7057 - val_loss: 0.8332 - val_accuracy: 0.7108\n"
     ]
    }
   ],
   "source": [
    "# Train the model\n",
    "history = model.fit(x_train, y_train, epochs=10, validation_data=(x_test, y_test))"
   ]
  },
  {
   "cell_type": "code",
   "execution_count": 7,
   "id": "3f79326b",
   "metadata": {},
   "outputs": [
    {
     "name": "stdout",
     "output_type": "stream",
     "text": [
      "Test Accuracy: 0.7107999920845032\n"
     ]
    }
   ],
   "source": [
    "# Evaluate the model\n",
    "test_loss, test_accuracy = model.evaluate(x_test, y_test, verbose=0)\n",
    "print('Test Accuracy:', test_accuracy)\n"
   ]
  },
  {
   "cell_type": "code",
   "execution_count": null,
   "id": "e4ec5ec4",
   "metadata": {},
   "outputs": [],
   "source": []
  }
 ],
 "metadata": {
  "kernelspec": {
   "display_name": "Python 3 (ipykernel)",
   "language": "python",
   "name": "python3"
  },
  "language_info": {
   "codemirror_mode": {
    "name": "ipython",
    "version": 3
   },
   "file_extension": ".py",
   "mimetype": "text/x-python",
   "name": "python",
   "nbconvert_exporter": "python",
   "pygments_lexer": "ipython3",
   "version": "3.9.12"
  },
  "varInspector": {
   "cols": {
    "lenName": 16,
    "lenType": 16,
    "lenVar": 40
   },
   "kernels_config": {
    "python": {
     "delete_cmd_postfix": "",
     "delete_cmd_prefix": "del ",
     "library": "var_list.py",
     "varRefreshCmd": "print(var_dic_list())"
    },
    "r": {
     "delete_cmd_postfix": ") ",
     "delete_cmd_prefix": "rm(",
     "library": "var_list.r",
     "varRefreshCmd": "cat(var_dic_list()) "
    }
   },
   "types_to_exclude": [
    "module",
    "function",
    "builtin_function_or_method",
    "instance",
    "_Feature"
   ],
   "window_display": false
  }
 },
 "nbformat": 4,
 "nbformat_minor": 5
}
